{
 "cells": [
  {
   "cell_type": "code",
   "execution_count": 30,
   "metadata": {},
   "outputs": [],
   "source": [
    "# basics\n",
    "from datetime import datetime\n",
    "import time\n",
    "import os \n",
    "import random\n",
    "# import gresearch_crypto\n",
    "\n",
    "# plotting\n",
    "import plotly.graph_objects as go\n",
    "import seaborn as sns\n",
    "import matplotlib.pyplot as plt\n",
    "\n",
    "# ml shit\n",
    "import numpy as np # linear algebra\n",
    "import pandas as pd # data processing, CSV file I/O (e.g. pd.read_csv)\n",
    "import scipy.stats as stats\n",
    "# models\n",
    "from sklearn.preprocessing import StandardScaler\n",
    "from sklearn.linear_model import LinearRegression\n",
    "from sklearn.multioutput import MultiOutputRegressor\n",
    "from lightgbm import LGBMRegressor\n",
    "\n",
    "\n",
    "data_root = \"../data/\"\n",
    "SEED = 2021\n",
    "REMOVE_LB_TEST_OVERLAPPING_DATA = True"
   ]
  },
  {
   "cell_type": "code",
   "execution_count": 32,
   "metadata": {},
   "outputs": [],
   "source": [
    "def fix_all_seeds(seed):\n",
    "    np.random.seed(seed)\n",
    "    random.seed(seed)\n",
    "    os.environ['PYTHONHASHSEED'] = str(seed)\n",
    "\n",
    "fix_all_seeds(SEED)"
   ]
  },
  {
   "cell_type": "code",
   "execution_count": 33,
   "metadata": {},
   "outputs": [
    {
     "data": {
      "text/html": "<div>\n<style scoped>\n    .dataframe tbody tr th:only-of-type {\n        vertical-align: middle;\n    }\n\n    .dataframe tbody tr th {\n        vertical-align: top;\n    }\n\n    .dataframe thead th {\n        text-align: right;\n    }\n</style>\n<table border=\"1\" class=\"dataframe\">\n  <thead>\n    <tr style=\"text-align: right;\">\n      <th></th>\n      <th>timestamp</th>\n      <th>Asset_ID</th>\n      <th>Count</th>\n      <th>Open</th>\n      <th>High</th>\n      <th>Low</th>\n      <th>Close</th>\n      <th>Volume</th>\n      <th>VWAP</th>\n      <th>Target</th>\n    </tr>\n  </thead>\n  <tbody>\n    <tr>\n      <th>0</th>\n      <td>1514764860</td>\n      <td>2</td>\n      <td>40.0</td>\n      <td>2376.5800</td>\n      <td>2399.5000</td>\n      <td>2357.1400</td>\n      <td>2374.5900</td>\n      <td>19.233005</td>\n      <td>2373.116392</td>\n      <td>-0.004218</td>\n    </tr>\n    <tr>\n      <th>1</th>\n      <td>1514764860</td>\n      <td>0</td>\n      <td>5.0</td>\n      <td>8.5300</td>\n      <td>8.5300</td>\n      <td>8.5300</td>\n      <td>8.5300</td>\n      <td>78.380000</td>\n      <td>8.530000</td>\n      <td>-0.014399</td>\n    </tr>\n    <tr>\n      <th>2</th>\n      <td>1514764860</td>\n      <td>1</td>\n      <td>229.0</td>\n      <td>13835.1940</td>\n      <td>14013.8000</td>\n      <td>13666.1100</td>\n      <td>13850.1760</td>\n      <td>31.550062</td>\n      <td>13827.062093</td>\n      <td>-0.014643</td>\n    </tr>\n    <tr>\n      <th>3</th>\n      <td>1514764860</td>\n      <td>5</td>\n      <td>32.0</td>\n      <td>7.6596</td>\n      <td>7.6596</td>\n      <td>7.6567</td>\n      <td>7.6576</td>\n      <td>6626.713370</td>\n      <td>7.657713</td>\n      <td>-0.013922</td>\n    </tr>\n    <tr>\n      <th>4</th>\n      <td>1514764860</td>\n      <td>7</td>\n      <td>5.0</td>\n      <td>25.9200</td>\n      <td>25.9200</td>\n      <td>25.8740</td>\n      <td>25.8770</td>\n      <td>121.087310</td>\n      <td>25.891363</td>\n      <td>-0.008264</td>\n    </tr>\n  </tbody>\n</table>\n</div>",
      "text/plain": "    timestamp  Asset_ID  Count        Open        High         Low  \\\n0  1514764860         2   40.0   2376.5800   2399.5000   2357.1400   \n1  1514764860         0    5.0      8.5300      8.5300      8.5300   \n2  1514764860         1  229.0  13835.1940  14013.8000  13666.1100   \n3  1514764860         5   32.0      7.6596      7.6596      7.6567   \n4  1514764860         7    5.0     25.9200     25.9200     25.8740   \n\n        Close       Volume          VWAP    Target  \n0   2374.5900    19.233005   2373.116392 -0.004218  \n1      8.5300    78.380000      8.530000 -0.014399  \n2  13850.1760    31.550062  13827.062093 -0.014643  \n3      7.6576  6626.713370      7.657713 -0.013922  \n4     25.8770   121.087310     25.891363 -0.008264  "
     },
     "execution_count": 33,
     "metadata": {},
     "output_type": "execute_result"
    }
   ],
   "source": [
    "train = pd.read_csv(data_root+\"train.csv\")\n",
    "asset_d = pd.read_csv(data_root+\"asset_details.csv\")\n",
    "train.head()"
   ]
  },
  {
   "cell_type": "markdown",
   "metadata": {},
   "source": [
    "# keep only the values before the LB test set"
   ]
  },
  {
   "cell_type": "code",
   "execution_count": 34,
   "metadata": {},
   "outputs": [],
   "source": [
    "if REMOVE_LB_TEST_OVERLAPPING_DATA:\n",
    "    train[\"datetime\"] = pd.to_datetime(train[\"timestamp\"], unit=\"s\")\n",
    "    train = train[train[\"datetime\"]<\"2021-06-13 00:00:00\"]\n"
   ]
  },
  {
   "cell_type": "markdown",
   "metadata": {},
   "source": [
    "# training"
   ]
  },
  {
   "cell_type": "code",
   "execution_count": 35,
   "metadata": {},
   "outputs": [],
   "source": [
    "# Two new features from the competition tutorial\n",
    "def upper_shadow(df):\n",
    "    return df['High'] - np.maximum(df['Close'], df['Open'])\n",
    "\n",
    "def lower_shadow(df):\n",
    "    return np.minimum(df['Close'], df['Open']) - df['Low']\n",
    "\n",
    "def get_features(df):\n",
    "    df_feat = df[[\"Count\", \"Open\",\"High\", \"Low\", \"Close\", \"Volume\",\"VWAP\"]].copy()\n",
    "    df_feat[\"Upper_shadow\"] = upper_shadow(df_feat)\n",
    "    df_feat[\"Lower_shadow\"] = lower_shadow(df_feat)\n",
    "    return df_feat\n",
    "\n",
    "def Xy_model_asset(train, asset_id):\n",
    "    df = train[train[\"Asset_ID\"]==asset_id]\n",
    "\n",
    "    # todo : try different features here \n",
    "    #        also, scale the features\n",
    "    df_proc = get_features(df)\n",
    "    df_proc[\"y\"] = df[\"Target\"]\n",
    "    df_proc.dropna(how=\"any\", inplace=True)\n",
    "    X = df_proc.drop(\"y\", axis=1)\n",
    "    y = df_proc[\"y\"]\n",
    "\n",
    "    # todo : try different models here\n",
    "    model = LGBMRegressor(n_estimators=10)\n",
    "    model.fit(X, y)\n",
    "    return X, y, model\n"
   ]
  },
  {
   "cell_type": "markdown",
   "metadata": {},
   "source": [
    "# Loop over all assets"
   ]
  },
  {
   "cell_type": "code",
   "execution_count": 36,
   "metadata": {},
   "outputs": [
    {
     "name": "stdout",
     "output_type": "stream",
     "text": [
      "Training model for Bitcoin Cash     (ID=2 )\n",
      "Training model for Binance Coin     (ID=0 )\n",
      "Training model for Bitcoin          (ID=1 )\n",
      "Training model for EOS.IO           (ID=5 )\n",
      "Training model for Ethereum Classic (ID=7 )\n",
      "Training model for Ethereum         (ID=6 )\n",
      "Training model for Litecoin         (ID=9 )\n",
      "Training model for Monero           (ID=11)\n",
      "Training model for TRON             (ID=13)\n",
      "Training model for Stellar          (ID=12)\n",
      "Training model for Cardano          (ID=3 )\n",
      "Training model for IOTA             (ID=8 )\n",
      "Training model for Maker            (ID=10)\n",
      "Training model for Dogecoin         (ID=4 )\n"
     ]
    }
   ],
   "source": [
    "Xs = {}\n",
    "ys = {}\n",
    "models = {}\n",
    "\n",
    "for asset_id, asset_name in zip(asset_d[\"Asset_ID\"],\\\n",
    "     asset_d[\"Asset_Name\"]):\n",
    "     print(f\"Training model for {asset_name:<16} (ID={asset_id:<2})\")\n",
    "     X, y, model = Xy_model_asset(train, asset_id)\n",
    "     Xs[asset_id], ys[asset_id], models[asset_id] = X, y, model\n",
    "\n"
   ]
  },
  {
   "cell_type": "code",
   "execution_count": 37,
   "metadata": {},
   "outputs": [
    {
     "name": "stderr",
     "output_type": "stream",
     "text": [
      "/Users/soraward/miniforge3/envs/pyflux/lib/python3.8/site-packages/lightgbm/sklearn.py:797: FutureWarning: Arrays of bytes/strings is being converted to decimal numbers if dtype='numeric'. This behavior is deprecated in 0.24 and will be removed in 1.1 (renaming of 0.26). Please convert your data to numeric values explicitly instead.\n",
      "  X = _LGBMCheckArray(X, accept_sparse=True, force_all_finite=False)\n"
     ]
    },
    {
     "data": {
      "text/plain": "9.477576309595709e-06"
     },
     "execution_count": 37,
     "metadata": {},
     "output_type": "execute_result"
    }
   ],
   "source": [
    "x = get_features(train.iloc[1])\n",
    "y_pred = models[0].predict([x])\n",
    "y_pred[0]"
   ]
  },
  {
   "cell_type": "code",
   "execution_count": 28,
   "metadata": {},
   "outputs": [
    {
     "data": {
      "text/html": "<div>\n<style scoped>\n    .dataframe tbody tr th:only-of-type {\n        vertical-align: middle;\n    }\n\n    .dataframe tbody tr th {\n        vertical-align: top;\n    }\n\n    .dataframe thead th {\n        text-align: right;\n    }\n</style>\n<table border=\"1\" class=\"dataframe\">\n  <thead>\n    <tr style=\"text-align: right;\">\n      <th></th>\n      <th>timestamp</th>\n      <th>Asset_ID</th>\n      <th>Count</th>\n      <th>Open</th>\n      <th>High</th>\n      <th>Low</th>\n      <th>Close</th>\n      <th>Volume</th>\n      <th>VWAP</th>\n      <th>Target</th>\n      <th>datetime</th>\n    </tr>\n  </thead>\n  <tbody>\n    <tr>\n      <th>0</th>\n      <td>1514764860</td>\n      <td>2</td>\n      <td>40.0</td>\n      <td>2376.5800</td>\n      <td>2399.5000</td>\n      <td>2357.1400</td>\n      <td>2374.5900</td>\n      <td>19.233005</td>\n      <td>2373.116392</td>\n      <td>-0.004218</td>\n      <td>2018-01-01 00:01:00</td>\n    </tr>\n    <tr>\n      <th>1</th>\n      <td>1514764860</td>\n      <td>0</td>\n      <td>5.0</td>\n      <td>8.5300</td>\n      <td>8.5300</td>\n      <td>8.5300</td>\n      <td>8.5300</td>\n      <td>78.380000</td>\n      <td>8.530000</td>\n      <td>-0.014399</td>\n      <td>2018-01-01 00:01:00</td>\n    </tr>\n    <tr>\n      <th>2</th>\n      <td>1514764860</td>\n      <td>1</td>\n      <td>229.0</td>\n      <td>13835.1940</td>\n      <td>14013.8000</td>\n      <td>13666.1100</td>\n      <td>13850.1760</td>\n      <td>31.550062</td>\n      <td>13827.062093</td>\n      <td>-0.014643</td>\n      <td>2018-01-01 00:01:00</td>\n    </tr>\n    <tr>\n      <th>3</th>\n      <td>1514764860</td>\n      <td>5</td>\n      <td>32.0</td>\n      <td>7.6596</td>\n      <td>7.6596</td>\n      <td>7.6567</td>\n      <td>7.6576</td>\n      <td>6626.713370</td>\n      <td>7.657713</td>\n      <td>-0.013922</td>\n      <td>2018-01-01 00:01:00</td>\n    </tr>\n    <tr>\n      <th>4</th>\n      <td>1514764860</td>\n      <td>7</td>\n      <td>5.0</td>\n      <td>25.9200</td>\n      <td>25.9200</td>\n      <td>25.8740</td>\n      <td>25.8770</td>\n      <td>121.087310</td>\n      <td>25.891363</td>\n      <td>-0.008264</td>\n      <td>2018-01-01 00:01:00</td>\n    </tr>\n  </tbody>\n</table>\n</div>",
      "text/plain": "    timestamp  Asset_ID  Count        Open        High         Low  \\\n0  1514764860         2   40.0   2376.5800   2399.5000   2357.1400   \n1  1514764860         0    5.0      8.5300      8.5300      8.5300   \n2  1514764860         1  229.0  13835.1940  14013.8000  13666.1100   \n3  1514764860         5   32.0      7.6596      7.6596      7.6567   \n4  1514764860         7    5.0     25.9200     25.9200     25.8740   \n\n        Close       Volume          VWAP    Target            datetime  \n0   2374.5900    19.233005   2373.116392 -0.004218 2018-01-01 00:01:00  \n1      8.5300    78.380000      8.530000 -0.014399 2018-01-01 00:01:00  \n2  13850.1760    31.550062  13827.062093 -0.014643 2018-01-01 00:01:00  \n3      7.6576  6626.713370      7.657713 -0.013922 2018-01-01 00:01:00  \n4     25.8770   121.087310     25.891363 -0.008264 2018-01-01 00:01:00  "
     },
     "execution_count": 28,
     "metadata": {},
     "output_type": "execute_result"
    }
   ],
   "source": [
    "# we can only run this on kaggle\n",
    "import gresearch_crypto\n",
    "\n",
    "all_df_test = []\n",
    "\n",
    "env = gresearch_crypto.make_env()\n",
    "iter_test = env.iter_test()\n",
    "\n",
    "for i, (df_test, df_pred) in enumerate(iter_test):\n",
    "    for j, row in df_test.iterrows():\n",
    "\n",
    "        model = models[row[\"Asset_ID\"]]\n",
    "        x_test = get_features(row)\n",
    "        y_pred = model.predict([x_test])[0]\n",
    "\n",
    "        df_pred.loc[df_pred[\"row_id\"] == row[\"row_id\"], \"Target\"] = y_pred\n",
    "\n",
    "        # print just one sample row\n",
    "\n",
    "    all_df_test.append(df_test)\n",
    "\n",
    "    #submit\n",
    "    env.predict(df_pred)"
   ]
  },
  {
   "cell_type": "code",
   "execution_count": null,
   "metadata": {},
   "outputs": [],
   "source": []
  }
 ],
 "metadata": {
  "kernelspec": {
   "display_name": "Python 3.8.12 64-bit ('pyflux': conda)",
   "name": "python3812jvsc74a57bd0b8bf3bbb95d33652ea8a09e83516ae388afde8f9530fb9552010d87506ab4938"
  },
  "language_info": {
   "codemirror_mode": {
    "name": "ipython",
    "version": 3
   },
   "file_extension": ".py",
   "mimetype": "text/x-python",
   "name": "python",
   "nbconvert_exporter": "python",
   "pygments_lexer": "ipython3",
   "version": "3.8.12"
  },
  "metadata": {
   "interpreter": {
    "hash": "b8bf3bbb95d33652ea8a09e83516ae388afde8f9530fb9552010d87506ab4938"
   }
  },
  "orig_nbformat": 2
 },
 "nbformat": 4,
 "nbformat_minor": 2
}