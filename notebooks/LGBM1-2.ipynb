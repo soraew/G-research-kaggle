{
 "cells": [
  {
   "cell_type": "code",
   "execution_count": 46,
   "metadata": {},
   "outputs": [],
   "source": [
    "# basics\n",
    "from datetime import datetime\n",
    "import time\n",
    "import os \n",
    "import random\n",
    "# import gresearch_crypto\n",
    "\n",
    "# plotting\n",
    "import plotly.graph_objects as go\n",
    "import seaborn as sns\n",
    "import matplotlib.pyplot as plt\n",
    "\n",
    "# ml shit\n",
    "import numpy as np # linear algebra\n",
    "import pandas as pd # data processing, CSV file I/O (e.g. pd.read_csv)\n",
    "import scipy.stats as stats\n",
    "from sklearn.model_selection import cross_val_score\n",
    "from sklearn.metrics import make_scorer\n",
    "# stat shit\n",
    "import statsmodels.api as sm\n",
    "from statsmodels.graphics import tsaplots\n",
    "# models\n",
    "from sklearn.preprocessing import StandardScaler\n",
    "from sklearn.linear_model import LinearRegression\n",
    "from sklearn.multioutput import MultiOutputRegressor\n",
    "from lightgbm import LGBMRegressor\n",
    "\n",
    "\n",
    "data_root = \"../data/\"\n",
    "SEED = 2021\n",
    "REMOVE_LB_TEST_OVERLAPPING_DATA = True"
   ]
  },
  {
   "cell_type": "code",
   "execution_count": 2,
   "metadata": {},
   "outputs": [],
   "source": [
    "# setting all seeds\n",
    "def fix_all_seeds(seed):\n",
    "    np.random.seed(seed)\n",
    "    random.seed(seed)\n",
    "    os.environ['PYTHONHASHSEED'] = str(seed)\n",
    "\n",
    "fix_all_seeds(SEED)"
   ]
  },
  {
   "cell_type": "code",
   "execution_count": 3,
   "metadata": {},
   "outputs": [],
   "source": [
    "train = pd.read_csv(data_root+\"train.csv\")\n",
    "asset_d = pd.read_csv(data_root+\"asset_details.csv\")"
   ]
  },
  {
   "cell_type": "code",
   "execution_count": 4,
   "metadata": {},
   "outputs": [],
   "source": [
    "if REMOVE_LB_TEST_OVERLAPPING_DATA:\n",
    "    train[\"datetime\"] = pd.to_datetime(train[\"timestamp\"], unit=\"s\")\n",
    "    train = train[train[\"datetime\"]<\"2021-06-13 00:00:00\"]\n"
   ]
  },
  {
   "cell_type": "code",
   "execution_count": 106,
   "metadata": {},
   "outputs": [],
   "source": [
    "#basic functions\n",
    "\n",
    "#this one is prob redundant\n",
    "to_datetime = lambda timestamp: datetime.strftime(datetime.fromtimestamp(timestamp),\"%Y-%m-%d\")\n",
    "\n",
    "get_month_timestamp = lambda timestamp: to_datetime(timestamp).month\n",
    "\n",
    "get_month = lambda datetime: datetime.month\n",
    "\n",
    "get_month_day = lambda datetime: datetime.strftime(\"%m-%d\")\n",
    "\n",
    "############# Two new features from the competition tutorial\n",
    "def log_return(series, periods=1):\n",
    "    return np.log(series).diff(periods=periods)\n",
    "\n",
    "def roll(array, shift):\n",
    "    # this supposebly improves the performance of np.roll\n",
    "    if not (isinstance(array, np.ndarray)):\n",
    "        array = np.asarray(array)\n",
    "    idx = shift%len(array)\n",
    "    return np.concatenate([array[-idx:], array[:-idx]])\n",
    "\n",
    "\n",
    "############# from lightGBT tutorial\n",
    "def upper_shadow(df):\n",
    "    return df['High'] - np.maximum(df['Close'], df['Open'])\n",
    "\n",
    "def lower_shadow(df):\n",
    "    return np.minimum(df['Close'], df['Open']) - df['Low']\n",
    "\n",
    "############# realized here needs to use some data for calculation of initial values\n",
    "def realized(close, N=240):\n",
    "    rt = list(np.log(C_t / C_t_1) for C_t, C_t_1 in zip(close[1:], close[:-1]))\n",
    "    rt_mean = sum(rt) / len(rt)\n",
    "    return np.sqrt(sum((r_i - rt_mean) ** 2 for r_i in rt) * N / (len(rt) - 1))\n",
    "\n",
    "########## function for calling all feature creating functions\n",
    "def get_features(df, Lag=True):\n",
    "    df_feat = df[[\"Count\", \"Open\",\"High\", \"Low\", \"Close\", \"Volume\",\"VWAP\", \"Target\"]].copy()\n",
    "    \n",
    "    df_feat[\"Upper_shadow\"] = upper_shadow(df_feat)\n",
    "    df_feat[\"Lower_shadow\"] = lower_shadow(df_feat)\n",
    "\n",
    "    df_feat[\"Volume\"] = log_return(df_feat[\"Volume\"]) # maybe Volume is fine just like that(?)\n",
    "    df_feat[\"Count\"] = log_return(df_feat[\"Count\"])\n",
    "    df_feat[\"VWAP\"] = log_return(df_feat[\"VWAP\"])\n",
    "    df_feat = df_feat[1:] # compensate\n",
    "    if Lag:\n",
    "        for lag in range(1, 6):\n",
    "            roll_feature = \"VWAP\"\n",
    "            df_feat[\"rolled_\"+roll_feature+f\"_{lag}\"] = \\\n",
    "                roll(df_feat[roll_feature].values, lag)\n",
    "    \n",
    "    ########### for now, simple dropna()     ########### \n",
    "    ########### later we can use reindexing  ########### \n",
    "    df_feat.dropna(inplace=True)\n",
    "    # df_feat = df_feat.reindex(range(btc.index[0],btc.index[-1]+60, 60), method=\"pad\")\n",
    "\n",
    "    return df_feat\n",
    "\n",
    "\n",
    "def Xy_model_asset(train, asset_id, Lag=True):\n",
    "    df = train[train[\"Asset_ID\"]==asset_id]\n",
    "\n",
    "    # todo : try different features here \n",
    "    #        also, scale the features\n",
    "    df_proc = get_features(df, Lag)\n",
    "\n",
    "    df_proc[\"y\"] = df[\"Target\"]\n",
    "    # 念の為\n",
    "    df_proc.dropna(how=\"any\", inplace=True)\n",
    "    X = df_proc.drop(\"y\", axis=1)\n",
    "    y = df_proc[\"y\"]\n",
    "\n",
    "    # todo : try different models here\n",
    "    # model = LGBMRegressor()\n",
    "    # model.fit(X, y)\n",
    "    return X, y#, model\n",
    "\n",
    "\n",
    "def scorer(model, X, y):\n",
    "    # not sure how this line works, just trying\n",
    "    y_pred = model.predict([X])[0]\n",
    "    score = np.corrcoef(y_pred, y)\n",
    "    return score\n",
    "\n",
    "my_scorer = make_scorer(scorer)"
   ]
  },
  {
   "cell_type": "code",
   "execution_count": 112,
   "metadata": {},
   "outputs": [],
   "source": [
    "train_assets = train.groupby(\"Asset_ID\")\n",
    "# asset_dict = {name:train_assets[group] for name, group in zip(asset_d.Asset_Name, asset_d.Asset_ID)}"
   ]
  },
  {
   "cell_type": "code",
   "execution_count": null,
   "metadata": {},
   "outputs": [],
   "source": []
  },
  {
   "cell_type": "markdown",
   "metadata": {},
   "source": [
    "# We first create simple LGBM Baseline"
   ]
  },
  {
   "cell_type": "code",
   "execution_count": 54,
   "metadata": {},
   "outputs": [
    {
     "name": "stdout",
     "output_type": "stream",
     "text": [
      "<class 'pandas.core.frame.DataFrame'> <class 'pandas.core.series.Series'>\n",
      "0.9355156853655835\n"
     ]
    }
   ],
   "source": [
    "model = LGBMRegressor()\n",
    "X, y = Xy_model_asset(train, 1)\n",
    "print(type(X), type(y))\n",
    "scores = cross_val_score(model, X, y, cv = 5)#, scoring=scorer)\n",
    "print(scores, \"\\n\", np.mean(scores))\n"
   ]
  },
  {
   "cell_type": "code",
   "execution_count": 23,
   "metadata": {},
   "outputs": [
    {
     "data": {
      "text/html": "<div>\n<style scoped>\n    .dataframe tbody tr th:only-of-type {\n        vertical-align: middle;\n    }\n\n    .dataframe tbody tr th {\n        vertical-align: top;\n    }\n\n    .dataframe thead th {\n        text-align: right;\n    }\n</style>\n<table border=\"1\" class=\"dataframe\">\n  <thead>\n    <tr style=\"text-align: right;\">\n      <th></th>\n      <th>Asset_ID</th>\n      <th>Weight</th>\n      <th>Asset_Name</th>\n    </tr>\n  </thead>\n  <tbody>\n    <tr>\n      <th>0</th>\n      <td>2</td>\n      <td>2.397895</td>\n      <td>Bitcoin Cash</td>\n    </tr>\n    <tr>\n      <th>1</th>\n      <td>0</td>\n      <td>4.304065</td>\n      <td>Binance Coin</td>\n    </tr>\n    <tr>\n      <th>2</th>\n      <td>1</td>\n      <td>6.779922</td>\n      <td>Bitcoin</td>\n    </tr>\n    <tr>\n      <th>3</th>\n      <td>5</td>\n      <td>1.386294</td>\n      <td>EOS.IO</td>\n    </tr>\n    <tr>\n      <th>4</th>\n      <td>7</td>\n      <td>2.079442</td>\n      <td>Ethereum Classic</td>\n    </tr>\n    <tr>\n      <th>5</th>\n      <td>6</td>\n      <td>5.894403</td>\n      <td>Ethereum</td>\n    </tr>\n    <tr>\n      <th>6</th>\n      <td>9</td>\n      <td>2.397895</td>\n      <td>Litecoin</td>\n    </tr>\n    <tr>\n      <th>7</th>\n      <td>11</td>\n      <td>1.609438</td>\n      <td>Monero</td>\n    </tr>\n    <tr>\n      <th>8</th>\n      <td>13</td>\n      <td>1.791759</td>\n      <td>TRON</td>\n    </tr>\n    <tr>\n      <th>9</th>\n      <td>12</td>\n      <td>2.079442</td>\n      <td>Stellar</td>\n    </tr>\n    <tr>\n      <th>10</th>\n      <td>3</td>\n      <td>4.406719</td>\n      <td>Cardano</td>\n    </tr>\n    <tr>\n      <th>11</th>\n      <td>8</td>\n      <td>1.098612</td>\n      <td>IOTA</td>\n    </tr>\n    <tr>\n      <th>12</th>\n      <td>10</td>\n      <td>1.098612</td>\n      <td>Maker</td>\n    </tr>\n    <tr>\n      <th>13</th>\n      <td>4</td>\n      <td>3.555348</td>\n      <td>Dogecoin</td>\n    </tr>\n  </tbody>\n</table>\n</div>",
      "text/plain": "    Asset_ID    Weight        Asset_Name\n0          2  2.397895      Bitcoin Cash\n1          0  4.304065      Binance Coin\n2          1  6.779922           Bitcoin\n3          5  1.386294            EOS.IO\n4          7  2.079442  Ethereum Classic\n5          6  5.894403          Ethereum\n6          9  2.397895          Litecoin\n7         11  1.609438            Monero\n8         13  1.791759              TRON\n9         12  2.079442           Stellar\n10         3  4.406719           Cardano\n11         8  1.098612              IOTA\n12        10  1.098612             Maker\n13         4  3.555348          Dogecoin"
     },
     "execution_count": 23,
     "metadata": {},
     "output_type": "execute_result"
    }
   ],
   "source": []
  },
  {
   "cell_type": "code",
   "execution_count": null,
   "metadata": {},
   "outputs": [],
   "source": []
  }
 ],
 "metadata": {
  "kernelspec": {
   "display_name": "Python 3.8.12 64-bit ('pyflux': conda)",
   "name": "python3812jvsc74a57bd0b8bf3bbb95d33652ea8a09e83516ae388afde8f9530fb9552010d87506ab4938"
  },
  "language_info": {
   "codemirror_mode": {
    "name": "ipython",
    "version": 3
   },
   "file_extension": ".py",
   "mimetype": "text/x-python",
   "name": "python",
   "nbconvert_exporter": "python",
   "pygments_lexer": "ipython3",
   "version": "3.8.12"
  },
  "metadata": {
   "interpreter": {
    "hash": "b8bf3bbb95d33652ea8a09e83516ae388afde8f9530fb9552010d87506ab4938"
   }
  },
  "orig_nbformat": 2
 },
 "nbformat": 4,
 "nbformat_minor": 2
}