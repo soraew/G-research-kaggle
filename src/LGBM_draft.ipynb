{
 "cells": [
  {
   "cell_type": "code",
   "execution_count": 1,
   "metadata": {},
   "outputs": [],
   "source": [
    "# basics\n",
    "from datetime import datetime\n",
    "import time\n",
    "import lightgbm\n",
    "from tqdm import tqdm\n",
    "\n",
    "\n",
    "#plotting\n",
    "import matplotlib.pyplot as plt\n",
    "import seaborn as sns\n",
    "from seaborn_analyzer import regplot\n",
    "\n",
    "# ml shit\n",
    "import numpy as np # linear algebra\n",
    "import pandas as pd # data processing, CSV file I/O (e.g. pd.read_csv)\n",
    "import scipy.stats as stats\n",
    "from sklearn.model_selection import TimeSeriesSplit\n",
    "from sklearn.metrics import make_scorer\n",
    "from sklearn.metrics import mean_squared_error\n",
    "from sklearn.linear_model import LinearRegression\n",
    "from sklearn.multioutput import MultiOutputRegressor\n",
    "from sklearn.svm import SVR\n",
    "from sklearn.pipeline import make_pipeline\n",
    "from sklearn.datasets import make_classification\n",
    "\n",
    "# models\n",
    "from sklearn.preprocessing import StandardScaler\n",
    "from lightgbm import LGBMRegressor\n",
    "\n",
    "# relative imports\n",
    "from get_feats import get_features\n",
    "\n",
    "SEED = 2021\n",
    "data_root = \"../data/\""
   ]
  },
  {
   "cell_type": "code",
   "execution_count": 2,
   "metadata": {},
   "outputs": [],
   "source": [
    "df_features_targets = get_features(data_root)\n",
    "df_features_targets.drop(columns=[\"Target_eth\", \"beta_eth\"], inplace = True)\n",
    "\n",
    "y = df_features_targets[[\"Target_btc\"]].to_numpy().squeeze()\n",
    "X =df_features_targets.drop(columns=[\"Target_btc\"], inplace=False).to_numpy()\n",
    "X_sm, y_sm = X[:90000], y[:90000]   "
   ]
  },
  {
   "cell_type": "code",
   "execution_count": null,
   "metadata": {},
   "outputs": [
    {
     "ename": "NameError",
     "evalue": "name 'X' is not defined",
     "output_type": "error",
     "traceback": [
      "\u001b[0;31m---------------------------------------------------------------------------\u001b[0m",
      "\u001b[0;31mNameError\u001b[0m                                 Traceback (most recent call last)",
      "\u001b[0;32m/var/folders/c5/nv2shz796rnc77pvdpyqmhwm0000gn/T/ipykernel_3803/1107665680.py\u001b[0m in \u001b[0;36m<module>\u001b[0;34m\u001b[0m\n\u001b[1;32m      1\u001b[0m \u001b[0;31m#とりあえず小さいデータセットでパラメータ探す\u001b[0m\u001b[0;34m\u001b[0m\u001b[0;34m\u001b[0m\u001b[0;34m\u001b[0m\u001b[0m\n\u001b[0;32m----> 2\u001b[0;31m \u001b[0mX_sm\u001b[0m\u001b[0;34m,\u001b[0m \u001b[0my_sm\u001b[0m \u001b[0;34m=\u001b[0m \u001b[0mX\u001b[0m\u001b[0;34m[\u001b[0m\u001b[0;34m:\u001b[0m\u001b[0;36m900000\u001b[0m\u001b[0;34m]\u001b[0m\u001b[0;34m,\u001b[0m \u001b[0my\u001b[0m\u001b[0;34m[\u001b[0m\u001b[0;34m:\u001b[0m\u001b[0;36m900000\u001b[0m\u001b[0;34m]\u001b[0m\u001b[0;34m\u001b[0m\u001b[0;34m\u001b[0m\u001b[0m\n\u001b[0m\u001b[1;32m      3\u001b[0m \u001b[0;34m\u001b[0m\u001b[0m\n\u001b[1;32m      4\u001b[0m \u001b[0;31m# random search parameters\u001b[0m\u001b[0;34m\u001b[0m\u001b[0;34m\u001b[0m\u001b[0;34m\u001b[0m\u001b[0m\n\u001b[1;32m      5\u001b[0m \u001b[0;31m# the parametersrare a copy of 渡辺卒論\u001b[0m\u001b[0;34m\u001b[0m\u001b[0;34m\u001b[0m\u001b[0;34m\u001b[0m\u001b[0m\n",
      "\u001b[0;31mNameError\u001b[0m: name 'X' is not defined"
     ]
    }
   ],
   "source": [
    "\n",
    "# random search parameters\n",
    "# the parametersrare a copy of 渡辺卒論\n",
    "def random_search_lgbm(X, y, params_space):\n",
    "    params_log = {}\n",
    "    iteration = 10\n",
    "    cv = TimeSeriesSplit()\n",
    "    for i in tqdm(range(iteration)):\n",
    "        params = {}\n",
    "        for key in params_space.keys():\n",
    "            param_list = params_space[key]\n",
    "            length = len(param_list)\n",
    "            idx =np.random.randint(0,length) \n",
    "            params.update({key:param_list[idx]})\n",
    "            # fit model to data\n",
    "        \n",
    "        model = LGBMRegressor(**params)\n",
    "        for train_idx, test_idx, in cv.split(X):\n",
    "            X_train, X_test = X[train_idx], X[test_idx]\n",
    "            y_train, y_test = y[train_idx], y[test_idx]\n",
    "            model.fit(X_train, y_train)\n",
    "            y_pred = model.predict(X_test).squeeze()\n",
    "            coef_score = np.corrcoef(y_pred, y_test)[0][1]\n",
    "            rmse_score = np.sqrt(mean_squared_error(y_pred, y_test))\n",
    "        params_log.update({i:[coef_score, rmse_score, params]})\n",
    "\n",
    "    sorted_by_coef=sorted(params_log.items(), key = lambda item: item[1][0], reverse=True)\n",
    "    sorted_by_rmse=sorted(params_log.items(), key = lambda item: item[1][1])\n",
    "    \n",
    "    return sorted_by_coef, sorted_by_rmse\n",
    "\n",
    "\n",
    "# best for coef(rmse doesn't really change)\n",
    "\"\"\"{'max_depth': 4,\n",
    "    'min_data_in_leaf': 20,\n",
    "    'learning_rate': 0.01,\n",
    "    'num_leaves': 40,\n",
    "    'boosting_type': 'gbdt',\n",
    "    'objective': 'regression',\n",
    "    'random_state': 2021,\n",
    "    'reg_alpha': 1.2,\n",
    "    'reg_lambda': 1.4}\"\"\"\n",
    "params_space = {\n",
    "        \"max_depth\":[4, 5, 6],\n",
    "        \"min_data_in_leaf\":[15, 20, 25],\n",
    "        \"learning_rate\":[0.01, 0.005],\n",
    "        \"num_leaves\":[25, 30, 35, 40],\n",
    "        \"boosting_type\":[\"gbdt\"],\n",
    "        \"objective\":[\"regression\"],\n",
    "        \"random_state\":[2021],\n",
    "        \"reg_alpha\":[1, 102],\n",
    "        \"reg_lambda\":[1, 1.2, 1.4]\n",
    "        }\n",
    "\n",
    "# sorted_by_coef, sorted_by_rmse = random_search_lgbm(X, y, params_space)\n",
    "##### rmse got lower than baseline(model=LGBMRegressor), however coef got worse\n",
    "# print(\"\\n\".join(sorted_by_rmse.items())) \n",
    "# print(\"\\n\".join(sorted_by_coef.items()))"
   ]
  },
  {
   "cell_type": "code",
   "execution_count": 3,
   "metadata": {},
   "outputs": [
    {
     "name": "stdout",
     "output_type": "stream",
     "text": [
      "[LightGBM] [Warning] min_data_in_leaf is set=20, min_child_samples=20 will be ignored. Current value: min_data_in_leaf=20\n"
     ]
    },
    {
     "data": {
      "text/plain": "LGBMRegressor(learning_rate=0.01, max_depth=4, min_data_in_leaf=20,\n              num_leaves=40, objective='regression', random_state=2021,\n              reg_alpha=1.2, reg_lambda=1.4)"
     },
     "execution_count": 3,
     "metadata": {},
     "output_type": "execute_result"
    }
   ],
   "source": [
    "final_params= {'max_depth': 4,\n",
    "    'min_data_in_leaf': 20,\n",
    "    'learning_rate': 0.01,\n",
    "    'num_leaves': 40,\n",
    "    'boosting_type': 'gbdt',\n",
    "    'objective': 'regression',\n",
    "    'random_state': 2021,\n",
    "    'reg_alpha': 1.2,\n",
    "    'reg_lambda': 1.4}\n",
    "\n",
    "model = LGBMRegressor(**final_params)\n",
    "model.fit(X_sm, y_sm)"
   ]
  },
  {
   "cell_type": "code",
   "execution_count": 4,
   "metadata": {},
   "outputs": [
    {
     "ename": "ImportError",
     "evalue": "You must install graphviz and restart your session to plot tree.",
     "output_type": "error",
     "traceback": [
      "\u001b[0;31m---------------------------------------------------------------------------\u001b[0m",
      "\u001b[0;31mImportError\u001b[0m                               Traceback (most recent call last)",
      "\u001b[0;32m/var/folders/c5/nv2shz796rnc77pvdpyqmhwm0000gn/T/ipykernel_3813/1016775210.py\u001b[0m in \u001b[0;36m<module>\u001b[0;34m\u001b[0m\n\u001b[0;32m----> 1\u001b[0;31m \u001b[0mlightgbm\u001b[0m\u001b[0;34m.\u001b[0m\u001b[0mplot_tree\u001b[0m\u001b[0;34m(\u001b[0m\u001b[0mmodel\u001b[0m\u001b[0;34m)\u001b[0m\u001b[0;34m\u001b[0m\u001b[0;34m\u001b[0m\u001b[0m\n\u001b[0m\u001b[1;32m      2\u001b[0m \u001b[0mplt\u001b[0m\u001b[0;34m.\u001b[0m\u001b[0mshow\u001b[0m\u001b[0;34m(\u001b[0m\u001b[0;34m)\u001b[0m\u001b[0;34m\u001b[0m\u001b[0;34m\u001b[0m\u001b[0m\n",
      "\u001b[0;32m~/miniforge3/envs/pyflux/lib/python3.8/site-packages/lightgbm/plotting.py\u001b[0m in \u001b[0;36mplot_tree\u001b[0;34m(booster, ax, tree_index, figsize, dpi, show_info, precision, orientation, **kwargs)\u001b[0m\n\u001b[1;32m    682\u001b[0m         \u001b[0m_\u001b[0m\u001b[0;34m,\u001b[0m \u001b[0max\u001b[0m \u001b[0;34m=\u001b[0m \u001b[0mplt\u001b[0m\u001b[0;34m.\u001b[0m\u001b[0msubplots\u001b[0m\u001b[0;34m(\u001b[0m\u001b[0;36m1\u001b[0m\u001b[0;34m,\u001b[0m \u001b[0;36m1\u001b[0m\u001b[0;34m,\u001b[0m \u001b[0mfigsize\u001b[0m\u001b[0;34m=\u001b[0m\u001b[0mfigsize\u001b[0m\u001b[0;34m,\u001b[0m \u001b[0mdpi\u001b[0m\u001b[0;34m=\u001b[0m\u001b[0mdpi\u001b[0m\u001b[0;34m)\u001b[0m\u001b[0;34m\u001b[0m\u001b[0;34m\u001b[0m\u001b[0m\n\u001b[1;32m    683\u001b[0m \u001b[0;34m\u001b[0m\u001b[0m\n\u001b[0;32m--> 684\u001b[0;31m     graph = create_tree_digraph(booster=booster, tree_index=tree_index,\n\u001b[0m\u001b[1;32m    685\u001b[0m                                 \u001b[0mshow_info\u001b[0m\u001b[0;34m=\u001b[0m\u001b[0mshow_info\u001b[0m\u001b[0;34m,\u001b[0m \u001b[0mprecision\u001b[0m\u001b[0;34m=\u001b[0m\u001b[0mprecision\u001b[0m\u001b[0;34m,\u001b[0m\u001b[0;34m\u001b[0m\u001b[0;34m\u001b[0m\u001b[0m\n\u001b[1;32m    686\u001b[0m                                 orientation=orientation, **kwargs)\n",
      "\u001b[0;32m~/miniforge3/envs/pyflux/lib/python3.8/site-packages/lightgbm/plotting.py\u001b[0m in \u001b[0;36mcreate_tree_digraph\u001b[0;34m(booster, tree_index, show_info, precision, orientation, **kwargs)\u001b[0m\n\u001b[1;32m    600\u001b[0m         \u001b[0mshow_info\u001b[0m \u001b[0;34m=\u001b[0m \u001b[0;34m[\u001b[0m\u001b[0;34m]\u001b[0m\u001b[0;34m\u001b[0m\u001b[0;34m\u001b[0m\u001b[0m\n\u001b[1;32m    601\u001b[0m \u001b[0;34m\u001b[0m\u001b[0m\n\u001b[0;32m--> 602\u001b[0;31m     graph = _to_graphviz(tree_info, show_info, feature_names, precision,\n\u001b[0m\u001b[1;32m    603\u001b[0m                          orientation, monotone_constraints, **kwargs)\n\u001b[1;32m    604\u001b[0m \u001b[0;34m\u001b[0m\u001b[0m\n",
      "\u001b[0;32m~/miniforge3/envs/pyflux/lib/python3.8/site-packages/lightgbm/plotting.py\u001b[0m in \u001b[0;36m_to_graphviz\u001b[0;34m(tree_info, show_info, feature_names, precision, orientation, constraints, **kwargs)\u001b[0m\n\u001b[1;32m    437\u001b[0m         \u001b[0;32mfrom\u001b[0m \u001b[0mgraphviz\u001b[0m \u001b[0;32mimport\u001b[0m \u001b[0mDigraph\u001b[0m\u001b[0;34m\u001b[0m\u001b[0;34m\u001b[0m\u001b[0m\n\u001b[1;32m    438\u001b[0m     \u001b[0;32melse\u001b[0m\u001b[0;34m:\u001b[0m\u001b[0;34m\u001b[0m\u001b[0;34m\u001b[0m\u001b[0m\n\u001b[0;32m--> 439\u001b[0;31m         \u001b[0;32mraise\u001b[0m \u001b[0mImportError\u001b[0m\u001b[0;34m(\u001b[0m\u001b[0;34m'You must install graphviz and restart your session to plot tree.'\u001b[0m\u001b[0;34m)\u001b[0m\u001b[0;34m\u001b[0m\u001b[0;34m\u001b[0m\u001b[0m\n\u001b[0m\u001b[1;32m    440\u001b[0m \u001b[0;34m\u001b[0m\u001b[0m\n\u001b[1;32m    441\u001b[0m     \u001b[0;32mdef\u001b[0m \u001b[0madd\u001b[0m\u001b[0;34m(\u001b[0m\u001b[0mroot\u001b[0m\u001b[0;34m,\u001b[0m \u001b[0mtotal_count\u001b[0m\u001b[0;34m,\u001b[0m \u001b[0mparent\u001b[0m\u001b[0;34m=\u001b[0m\u001b[0;32mNone\u001b[0m\u001b[0;34m,\u001b[0m \u001b[0mdecision\u001b[0m\u001b[0;34m=\u001b[0m\u001b[0;32mNone\u001b[0m\u001b[0;34m)\u001b[0m\u001b[0;34m:\u001b[0m\u001b[0;34m\u001b[0m\u001b[0;34m\u001b[0m\u001b[0m\n",
      "\u001b[0;31mImportError\u001b[0m: You must install graphviz and restart your session to plot tree."
     ]
    },
    {
     "data": {
      "image/png": "[encoded data removed]",
      "text/plain": "<Figure size 432x288 with 1 Axes>"
     },
     "metadata": {
      "needs_background": "light"
     },
     "output_type": "display_data"
    }
   ],
   "source": [
    "lightgbm.plot_tree(model)\n",
    "plt.show()"
   ]
  },
  {
   "cell_type": "code",
   "execution_count": 4,
   "metadata": {},
   "outputs": [],
   "source": [
    "# Time split validation for LightGBM, LinearRegressor, SVR\n",
    "\n",
    "cv = TimeSeriesSplit(n_splits=5)\n",
    "lgbm = LGBMRegressor()\n",
    "lr = LinearRegression()\n",
    "regr = make_pipeline(StandardScaler(), SVR(C=1.0, epsilon=0.2))\n",
    "\n",
    "# coef_scores_lgbm = []\n",
    "# rmse_scores_lgbm = []\n",
    "# coef_scores_lr = []\n",
    "# rmse_scores_lr = []\n",
    "\n",
    "# compute cv and rmse, coef scores for lgbm, lr, svr models\n",
    "def cv_scores(X, y):\n",
    "\n",
    "    coef_scores = {\"lgbm\":[], \"lr\":[], \"svr\":[]}\n",
    "    rmse_scores = {\"lgbm\":[], \"lr\":[], \"svr\":[]}\n",
    "    for train_idx, test_idx, in cv.split(X):\n",
    "        X_train, X_test = X[train_idx], X[test_idx]\n",
    "        y_train, y_test = y[train_idx], y[test_idx]\n",
    "        print(X_train.shape)\n",
    "\n",
    "        lgbm.fit(X_train, y_train)\n",
    "        lr.fit(X_train, y_train)\n",
    "        regr.fit(X_train, y_train)\n",
    "\n",
    "        y_pred_lgbm = lgbm.predict(X_test).squeeze()\n",
    "        y_pred_lr = lr.predict(X_test).squeeze()\n",
    "        y_pred_svr = regr.predict(X_test).squeeze()\n",
    "        print(\"y_pred_svr.shape >>:\", y_pred_svr.shape)\n",
    "        print(\"y_pred_svr.isna.sum >>:\", np.sum(np.isnan(y_test)))\n",
    "        print(\"y_test.isna.sum\", np.sum(np.isnan(y_pred_svr)))     \n",
    "        \n",
    "        coef_scores[\"lgbm\"].append(np.corrcoef(y_pred_lgbm, y_test)[0][1])\n",
    "        coef_scores[\"lr\"].append(np.corrcoef(y_pred_lr, y_test)[0][1])\n",
    "        coef_scores[\"svr\"].append(np.corrcoef(y_pred_svr, y_test)[0][1])\n",
    "\n",
    "        rmse_scores[\"lgbm\"].append(np.sqrt(mean_squared_error(y_pred_lgbm, y_test)))\n",
    "        rmse_scores[\"lr\"].append(np.sqrt(mean_squared_error(y_pred_lr, y_test)))\n",
    "        rmse_scores[\"svr\"].append(np.sqrt(mean_squared_error(y_pred_svr, y_test)))\n",
    "\n",
    "    return coef_scores, rmse_scores\n",
    "        # coef_scores_lgbm.append(np.corrcoef(y_pred_lgbm, y_test)[0][1])\n",
    "        # rmse_scores_lgbm.append(np.sqrt(mean_squared_error(y_pred_lgbm, y_test)))\n",
    "        # coef_scores_lr.append(np.corrcoef(y_pred_lr, y_test)[0][1])\n",
    "        # rmse_scores_lr.append(np.sqrt(mean_squared_error(y_pred_lr, y_test)))"
   ]
  },
  {
   "cell_type": "code",
   "execution_count": 5,
   "metadata": {},
   "outputs": [
    {
     "name": "stdout",
     "output_type": "stream",
     "text": [
      "(15000, 13)\n",
      "y_pred_svr.shape >>: (15000,)\n",
      "y_pred_svr.isna.sum >>: 0\n",
      "y_test.isna.sum 0\n",
      "(30000, 13)\n"
     ]
    },
    {
     "name": "stderr",
     "output_type": "stream",
     "text": [
      "/Users/soraward/miniforge3/envs/pyflux/lib/python3.8/site-packages/numpy/lib/function_base.py:2691: RuntimeWarning: invalid value encountered in true_divide\n",
      "  c /= stddev[:, None]\n",
      "/Users/soraward/miniforge3/envs/pyflux/lib/python3.8/site-packages/numpy/lib/function_base.py:2692: RuntimeWarning: invalid value encountered in true_divide\n",
      "  c /= stddev[None, :]\n"
     ]
    },
    {
     "name": "stdout",
     "output_type": "stream",
     "text": [
      "y_pred_svr.shape >>: (15000,)\n",
      "y_pred_svr.isna.sum >>: 0\n",
      "y_test.isna.sum 0\n",
      "(45000, 13)\n"
     ]
    },
    {
     "name": "stderr",
     "output_type": "stream",
     "text": [
      "/Users/soraward/miniforge3/envs/pyflux/lib/python3.8/site-packages/numpy/lib/function_base.py:2691: RuntimeWarning: invalid value encountered in true_divide\n",
      "  c /= stddev[:, None]\n",
      "/Users/soraward/miniforge3/envs/pyflux/lib/python3.8/site-packages/numpy/lib/function_base.py:2692: RuntimeWarning: invalid value encountered in true_divide\n",
      "  c /= stddev[None, :]\n"
     ]
    },
    {
     "name": "stdout",
     "output_type": "stream",
     "text": [
      "y_pred_svr.shape >>: (15000,)\n",
      "y_pred_svr.isna.sum >>: 0\n",
      "y_test.isna.sum 0\n",
      "(60000, 13)\n"
     ]
    },
    {
     "name": "stderr",
     "output_type": "stream",
     "text": [
      "/Users/soraward/miniforge3/envs/pyflux/lib/python3.8/site-packages/numpy/lib/function_base.py:2691: RuntimeWarning: invalid value encountered in true_divide\n",
      "  c /= stddev[:, None]\n",
      "/Users/soraward/miniforge3/envs/pyflux/lib/python3.8/site-packages/numpy/lib/function_base.py:2692: RuntimeWarning: invalid value encountered in true_divide\n",
      "  c /= stddev[None, :]\n"
     ]
    },
    {
     "name": "stdout",
     "output_type": "stream",
     "text": [
      "y_pred_svr.shape >>: (15000,)\n",
      "y_pred_svr.isna.sum >>: 0\n",
      "y_test.isna.sum 0\n",
      "(75000, 13)\n"
     ]
    },
    {
     "name": "stderr",
     "output_type": "stream",
     "text": [
      "/Users/soraward/miniforge3/envs/pyflux/lib/python3.8/site-packages/numpy/lib/function_base.py:2691: RuntimeWarning: invalid value encountered in true_divide\n",
      "  c /= stddev[:, None]\n",
      "/Users/soraward/miniforge3/envs/pyflux/lib/python3.8/site-packages/numpy/lib/function_base.py:2692: RuntimeWarning: invalid value encountered in true_divide\n",
      "  c /= stddev[None, :]\n"
     ]
    },
    {
     "name": "stdout",
     "output_type": "stream",
     "text": [
      "y_pred_svr.shape >>: (15000,)\n",
      "y_pred_svr.isna.sum >>: 0\n",
      "y_test.isna.sum 0\n",
      "lgbm_coef_scores >>: 0.1315201309297373\n",
      "[0.028443932239353646, 0.05304022149645442, 0.01058663525631585, 0.01697564820329782, 0.022473693734315583]\n",
      "lr_coef_scores >>: 0.25963029319992237\n",
      "[0.024406257207902366, 0.0791974686790663, 0.012543804090438173, 0.0360797429361121, 0.10740302028640342]\n",
      "svr_coef_scores >>: nan\n",
      "[nan, nan, nan, nan, nan]\n",
      "lgbm_rmse_scores >>: 0.009833042422863168\n",
      "lr_rmse_scores >>: 0.00915064093612973\n",
      "svr_rmse_scores >>: 0.012286916798059766\n"
     ]
    },
    {
     "name": "stderr",
     "output_type": "stream",
     "text": [
      "/Users/soraward/miniforge3/envs/pyflux/lib/python3.8/site-packages/numpy/lib/function_base.py:2691: RuntimeWarning: invalid value encountered in true_divide\n",
      "  c /= stddev[:, None]\n",
      "/Users/soraward/miniforge3/envs/pyflux/lib/python3.8/site-packages/numpy/lib/function_base.py:2692: RuntimeWarning: invalid value encountered in true_divide\n",
      "  c /= stddev[None, :]\n"
     ]
    }
   ],
   "source": [
    "coef_scores, rmse_scores = cv_scores(X_sm, y_sm)\n",
    "models = [\"lgbm\", \"lr\", \"svr\"]\n",
    "for model in models:\n",
    "    print(f\"{model}_coef_scores >>:\", sum(coef_scores[model]))\n",
    "    print(coef_scores[model])\n",
    "for model in models:\n",
    "    print(f\"{model}_rmse_scores >>:\", sum(rmse_scores[model]))\n"
   ]
  },
  {
   "cell_type": "markdown",
   "metadata": {},
   "source": [
    "lgbm_coef_scores >>: 0.03260839615236024\n",
    "lr_coef_scores >>: 0.15899542915463533\n",
    "svr_coef_scores >>: nan\n",
    "lgbm_rmse_scores >>: 0.007897018856831799\n",
    "lr_rmse_scores >>: 0.006672486025234611\n",
    "svr_rmse_scores >>: 0.03511887093703035"
   ]
  },
  {
   "cell_type": "code",
   "execution_count": null,
   "metadata": {},
   "outputs": [],
   "source": [
    "0.01918597934749267,\n",
    "   0.0013507460664068677,"
   ]
  },
  {
   "cell_type": "code",
   "execution_count": 53,
   "metadata": {},
   "outputs": [
    {
     "data": {
      "text/plain": "(0.15899542915463533,\n 0.03260839615236024,\n 0.006672486025234611,\n 0.007897018856831799)"
     },
     "execution_count": 53,
     "metadata": {},
     "output_type": "execute_result"
    }
   ],
   "source": [
    "sum(coef_scores_lr), sum(coef_scores_lgbm), sum(rmse_scores_lr), sum(rmse_scores_lgbm)"
   ]
  },
  {
   "cell_type": "code",
   "execution_count": 46,
   "metadata": {},
   "outputs": [
    {
     "data": {
      "text/plain": "[-0.0006014308185926689,\n 0.013231169959288098,\n 0.0017891720452698722,\n 0.015268104787911473,\n 0.002921380178483465]"
     },
     "execution_count": 46,
     "metadata": {},
     "output_type": "execute_result"
    }
   ],
   "source": [
    "coef_scores"
   ]
  }
 ],
 "metadata": {
  "kernelspec": {
   "display_name": "Python 3.8.12 64-bit ('pyflux': conda)",
   "name": "python3812jvsc74a57bd0b8bf3bbb95d33652ea8a09e83516ae388afde8f9530fb9552010d87506ab4938"
  },
  "language_info": {
   "codemirror_mode": {
    "name": "ipython",
    "version": 3
   },
   "file_extension": ".py",
   "mimetype": "text/x-python",
   "name": "python",
   "nbconvert_exporter": "python",
   "pygments_lexer": "ipython3",
   "version": "3.8.12"
  },
  "metadata": {
   "interpreter": {
    "hash": "b8bf3bbb95d33652ea8a09e83516ae388afde8f9530fb9552010d87506ab4938"
   }
  },
  "orig_nbformat": 2
 },
 "nbformat": 4,
 "nbformat_minor": 2
}