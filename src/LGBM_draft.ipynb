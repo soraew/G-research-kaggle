{
 "cells": [
  {
   "cell_type": "code",
   "execution_count": 31,
   "metadata": {},
   "outputs": [],
   "source": [
    "# basics\n",
    "from datetime import datetime\n",
    "import time\n",
    "import lightgbm\n",
    "from tqdm import tqdm\n",
    "\n",
    "#plotting\n",
    "import matplotlib.pyplot as plt\n",
    "import seaborn as sns\n",
    "from seaborn_analyzer import regplot\n",
    "\n",
    "# ml shit\n",
    "import numpy as np # linear algebra\n",
    "import pandas as pd # data processing, CSV file I/O (e.g. pd.read_csv)\n",
    "import scipy.stats as stats\n",
    "from sklearn.model_selection import TimeSeriesSplit\n",
    "from sklearn.metrics import make_scorer\n",
    "from sklearn.metrics import mean_squared_error\n",
    "from sklearn.linear_model import LinearRegression\n",
    "from sklearn.multioutput import MultiOutputRegressor\n",
    "from sklearn.svm import SVR\n",
    "from sklearn.pipeline import make_pipeline\n",
    "from sklearn.datasets import make_classification\n",
    "\n",
    "# models\n",
    "from sklearn.preprocessing import StandardScaler\n",
    "from lightgbm import LGBMRegressor\n",
    "\n",
    "# relative imports\n",
    "from get_feats import get_features\n",
    "\n",
    "SEED = 2021\n",
    "data_root = \"../data/\""
   ]
  },
  {
   "cell_type": "code",
   "execution_count": 4,
   "metadata": {},
   "outputs": [],
   "source": [
    "df_features_targets = get_features(data_root)\n",
    "df_features_targets.drop(columns=[\"Target_eth\", \"beta_eth\"], inplace = True)\n",
    "\n",
    "y = df_features_targets[[\"Target_btc\"]].to_numpy().squeeze()\n",
    "X =df_features_targets.drop(columns=[\"Target_btc\"], inplace=False).to_numpy()"
   ]
  },
  {
   "cell_type": "code",
   "execution_count": 3,
   "metadata": {},
   "outputs": [],
   "source": [
    "#とりあえず小さいデータセットでパラメータ探す\n",
    "X_sm, y_sm = X[:900000], y[:900000]"
   ]
  },
  {
   "cell_type": "code",
   "execution_count": null,
   "metadata": {},
   "outputs": [],
   "source": []
  },
  {
   "cell_type": "code",
   "execution_count": 30,
   "metadata": {},
   "outputs": [
    {
     "name": "stdout",
     "output_type": "stream",
     "text": [
      "[LightGBM] [Warning] min_data_in_leaf is set=20, min_child_samples=20 will be ignored. Current value: min_data_in_leaf=20\n",
      "[LightGBM] [Warning] min_data_in_leaf is set=20, min_child_samples=20 will be ignored. Current value: min_data_in_leaf=20\n",
      "[LightGBM] [Warning] min_data_in_leaf is set=20, min_child_samples=20 will be ignored. Current value: min_data_in_leaf=20\n",
      "[LightGBM] [Warning] min_data_in_leaf is set=20, min_child_samples=20 will be ignored. Current value: min_data_in_leaf=20\n",
      "[LightGBM] [Warning] min_data_in_leaf is set=20, min_child_samples=20 will be ignored. Current value: min_data_in_leaf=20\n",
      "[LightGBM] [Warning] min_data_in_leaf is set=20, min_child_samples=20 will be ignored. Current value: min_data_in_leaf=20\n",
      "[LightGBM] [Warning] min_data_in_leaf is set=20, min_child_samples=20 will be ignored. Current value: min_data_in_leaf=20\n",
      "[LightGBM] [Warning] min_data_in_leaf is set=20, min_child_samples=20 will be ignored. Current value: min_data_in_leaf=20\n",
      "[LightGBM] [Warning] min_data_in_leaf is set=20, min_child_samples=20 will be ignored. Current value: min_data_in_leaf=20\n",
      "[LightGBM] [Warning] min_data_in_leaf is set=20, min_child_samples=20 will be ignored. Current value: min_data_in_leaf=20\n",
      "[LightGBM] [Warning] min_data_in_leaf is set=25, min_child_samples=20 will be ignored. Current value: min_data_in_leaf=25\n",
      "[LightGBM] [Warning] min_data_in_leaf is set=25, min_child_samples=20 will be ignored. Current value: min_data_in_leaf=25\n",
      "[LightGBM] [Warning] min_data_in_leaf is set=25, min_child_samples=20 will be ignored. Current value: min_data_in_leaf=25\n",
      "[LightGBM] [Warning] min_data_in_leaf is set=25, min_child_samples=20 will be ignored. Current value: min_data_in_leaf=25\n",
      "[LightGBM] [Warning] min_data_in_leaf is set=25, min_child_samples=20 will be ignored. Current value: min_data_in_leaf=25\n",
      "[LightGBM] [Warning] min_data_in_leaf is set=20, min_child_samples=20 will be ignored. Current value: min_data_in_leaf=20\n",
      "[LightGBM] [Warning] min_data_in_leaf is set=20, min_child_samples=20 will be ignored. Current value: min_data_in_leaf=20\n",
      "[LightGBM] [Warning] min_data_in_leaf is set=20, min_child_samples=20 will be ignored. Current value: min_data_in_leaf=20\n",
      "[LightGBM] [Warning] min_data_in_leaf is set=20, min_child_samples=20 will be ignored. Current value: min_data_in_leaf=20\n",
      "[LightGBM] [Warning] min_data_in_leaf is set=20, min_child_samples=20 will be ignored. Current value: min_data_in_leaf=20\n",
      "[LightGBM] [Warning] min_data_in_leaf is set=25, min_child_samples=20 will be ignored. Current value: min_data_in_leaf=25\n",
      "[LightGBM] [Warning] min_data_in_leaf is set=25, min_child_samples=20 will be ignored. Current value: min_data_in_leaf=25\n",
      "[LightGBM] [Warning] min_data_in_leaf is set=25, min_child_samples=20 will be ignored. Current value: min_data_in_leaf=25\n",
      "[LightGBM] [Warning] min_data_in_leaf is set=25, min_child_samples=20 will be ignored. Current value: min_data_in_leaf=25\n",
      "[LightGBM] [Warning] min_data_in_leaf is set=25, min_child_samples=20 will be ignored. Current value: min_data_in_leaf=25\n",
      "[LightGBM] [Warning] min_data_in_leaf is set=20, min_child_samples=20 will be ignored. Current value: min_data_in_leaf=20\n",
      "[LightGBM] [Warning] min_data_in_leaf is set=20, min_child_samples=20 will be ignored. Current value: min_data_in_leaf=20\n",
      "[LightGBM] [Warning] min_data_in_leaf is set=20, min_child_samples=20 will be ignored. Current value: min_data_in_leaf=20\n",
      "[LightGBM] [Warning] min_data_in_leaf is set=20, min_child_samples=20 will be ignored. Current value: min_data_in_leaf=20\n",
      "[LightGBM] [Warning] min_data_in_leaf is set=20, min_child_samples=20 will be ignored. Current value: min_data_in_leaf=20\n",
      "[LightGBM] [Warning] min_data_in_leaf is set=20, min_child_samples=20 will be ignored. Current value: min_data_in_leaf=20\n",
      "[LightGBM] [Warning] min_data_in_leaf is set=20, min_child_samples=20 will be ignored. Current value: min_data_in_leaf=20\n",
      "[LightGBM] [Warning] min_data_in_leaf is set=20, min_child_samples=20 will be ignored. Current value: min_data_in_leaf=20\n",
      "[LightGBM] [Warning] min_data_in_leaf is set=20, min_child_samples=20 will be ignored. Current value: min_data_in_leaf=20\n",
      "[LightGBM] [Warning] min_data_in_leaf is set=20, min_child_samples=20 will be ignored. Current value: min_data_in_leaf=20\n",
      "[LightGBM] [Warning] min_data_in_leaf is set=20, min_child_samples=20 will be ignored. Current value: min_data_in_leaf=20\n",
      "[LightGBM] [Warning] min_data_in_leaf is set=20, min_child_samples=20 will be ignored. Current value: min_data_in_leaf=20\n",
      "[LightGBM] [Warning] min_data_in_leaf is set=20, min_child_samples=20 will be ignored. Current value: min_data_in_leaf=20\n",
      "[LightGBM] [Warning] min_data_in_leaf is set=20, min_child_samples=20 will be ignored. Current value: min_data_in_leaf=20\n",
      "[LightGBM] [Warning] min_data_in_leaf is set=20, min_child_samples=20 will be ignored. Current value: min_data_in_leaf=20\n",
      "[LightGBM] [Warning] min_data_in_leaf is set=25, min_child_samples=20 will be ignored. Current value: min_data_in_leaf=25\n",
      "[LightGBM] [Warning] min_data_in_leaf is set=25, min_child_samples=20 will be ignored. Current value: min_data_in_leaf=25\n",
      "[LightGBM] [Warning] min_data_in_leaf is set=25, min_child_samples=20 will be ignored. Current value: min_data_in_leaf=25\n",
      "[LightGBM] [Warning] min_data_in_leaf is set=25, min_child_samples=20 will be ignored. Current value: min_data_in_leaf=25\n",
      "[LightGBM] [Warning] min_data_in_leaf is set=25, min_child_samples=20 will be ignored. Current value: min_data_in_leaf=25\n",
      "[LightGBM] [Warning] min_data_in_leaf is set=25, min_child_samples=20 will be ignored. Current value: min_data_in_leaf=25\n",
      "[LightGBM] [Warning] min_data_in_leaf is set=25, min_child_samples=20 will be ignored. Current value: min_data_in_leaf=25\n",
      "[LightGBM] [Warning] min_data_in_leaf is set=25, min_child_samples=20 will be ignored. Current value: min_data_in_leaf=25\n",
      "[LightGBM] [Warning] min_data_in_leaf is set=25, min_child_samples=20 will be ignored. Current value: min_data_in_leaf=25\n",
      "[LightGBM] [Warning] min_data_in_leaf is set=25, min_child_samples=20 will be ignored. Current value: min_data_in_leaf=25\n"
     ]
    }
   ],
   "source": [
    "# random search parameters\n",
    "# the parameters are a copy of 渡辺卒論\n",
    "params_space = {\n",
    "    \"max_depth\":[4, 5, 6],\n",
    "    \"min_data_in_leaf\":[15, 20, 25],\n",
    "    \"learning_rate\":[0.01, 0.005],\n",
    "    \"num_leaves\":[25, 30, 35, 40],\n",
    "    \"boosting_type\":[\"gbdt\"],\n",
    "    \"objective\":[\"regression\"],\n",
    "    \"random_state\":[2021],\n",
    "    \"reg_alpha\":[1, 1.2],\n",
    "    \"reg_lambda\":[1, 1.2, 1.4]\n",
    "}\n",
    "\n",
    "params_log = {}\n",
    "iteration = 10\n",
    "\n",
    "cv = TimeSeriesSplit()\n",
    "for i in tqdm(range(iteration)):\n",
    "    params = {}\n",
    "    for key in params_space.keys():\n",
    "        param_list = params_space[key]\n",
    "        length = len(param_list)\n",
    "        idx =np.random.randint(0,length) \n",
    "        params.update({key:param_list[idx]})\n",
    "        # fit model to data\n",
    "    \n",
    "    model = LGBMRegressor(**params)\n",
    "    for train_idx, test_idx, in cv.split(X):\n",
    "        X_train, X_test = X[train_idx], X[test_idx]\n",
    "        y_train, y_test = y[train_idx], y[test_idx]\n",
    "        model.fit(X_train, y_train)\n",
    "        y_pred = model.predict(X_test).squeeze()\n",
    "        coef_score = np.corrcoef(y_pred, y_test)[0][1]\n",
    "        rmse_score = np.sqrt(mean_squared_error(y_pred, y_test))\n",
    "    params_log.update({i:[coef_score, rmse_score, params]})\n",
    "\n",
    "\n",
    "sorted_by_coef=sorted(params_log.items(), key = lambda item: item[1][0], reverse=True)\n",
    "sorted_by_rmse=sorted(params_log.items(), key = lambda item: item[1][1])\n",
    "\n",
    "#rmse got lower than baseline(model=LGBMRegressor), however coef got worse\n",
    "print(sorted_by_rmse) \n",
    "print(sorted_by_coef)\n",
    "\n",
    "# best for coef(rmse doesn't really change)\n",
    "\"\"\"{'max_depth': 4,\n",
    "    'min_data_in_leaf': 20,\n",
    "    'learning_rate': 0.01,\n",
    "    'num_leaves': 40,\n",
    "    'boosting_type': 'gbdt',\n",
    "    'objective': 'regression',\n",
    "    'random_state': 2021,\n",
    "    'reg_alpha': 1.2,\n",
    "    'reg_lambda': 1.4}\"\"\""
   ]
  },
  {
   "cell_type": "code",
   "execution_count": 37,
   "metadata": {},
   "outputs": [
    {
     "data": {
      "text/plain": "[(7,\n  [0.017652342733616565,\n   0.0013507217797238736,\n   {'max_depth': 4,\n    'min_data_in_leaf': 20,\n    'learning_rate': 0.005,\n    'num_leaves': 35,\n    'boosting_type': 'gbdt',\n    'objective': 'regression',\n    'random_state': 2021,\n    'reg_alpha': 1,\n    'reg_lambda': 1.4}]),\n (2,\n  [0.01765238821805517,\n   0.001350721779885612,\n   {'max_depth': 4,\n    'min_data_in_leaf': 25,\n    'learning_rate': 0.005,\n    'num_leaves': 35,\n    'boosting_type': 'gbdt',\n    'objective': 'regression',\n    'random_state': 2021,\n    'reg_alpha': 1,\n    'reg_lambda': 1}]),\n (6,\n  [0.01765238821805517,\n   0.001350721779885612,\n   {'max_depth': 4,\n    'min_data_in_leaf': 20,\n    'learning_rate': 0.005,\n    'num_leaves': 40,\n    'boosting_type': 'gbdt',\n    'objective': 'regression',\n    'random_state': 2021,\n    'reg_alpha': 1,\n    'reg_lambda': 1}]),\n (5,\n  [0.01918597934749267,\n   0.0013507460664068677,\n   {'max_depth': 4,\n    'min_data_in_leaf': 20,\n    'learning_rate': 0.01,\n    'num_leaves': 40,\n    'boosting_type': 'gbdt',\n    'objective': 'regression',\n    'random_state': 2021,\n    'reg_alpha': 1.2,\n    'reg_lambda': 1.4}]),\n (8,\n  [0.015383890047880351,\n   0.0013507706556974831,\n   {'max_depth': 6,\n    'min_data_in_leaf': 25,\n    'learning_rate': 0.005,\n    'num_leaves': 35,\n    'boosting_type': 'gbdt',\n    'objective': 'regression',\n    'random_state': 2021,\n    'reg_alpha': 1.2,\n    'reg_lambda': 1}]),\n (9,\n  [0.015383894988934159,\n   0.0013507706559908257,\n   {'max_depth': 6,\n    'min_data_in_leaf': 25,\n    'learning_rate': 0.005,\n    'num_leaves': 35,\n    'boosting_type': 'gbdt',\n    'objective': 'regression',\n    'random_state': 2021,\n    'reg_alpha': 1.2,\n    'reg_lambda': 1.2}]),\n (1,\n  [0.014840120703225507,\n   0.0013507818772989192,\n   {'max_depth': 6,\n    'min_data_in_leaf': 20,\n    'learning_rate': 0.005,\n    'num_leaves': 30,\n    'boosting_type': 'gbdt',\n    'objective': 'regression',\n    'random_state': 2021,\n    'reg_alpha': 1.2,\n    'reg_lambda': 1.2}]),\n (3,\n  [0.014637704152152943,\n   0.0013507857390573298,\n   {'max_depth': 5,\n    'min_data_in_leaf': 20,\n    'learning_rate': 0.005,\n    'num_leaves': 25,\n    'boosting_type': 'gbdt',\n    'objective': 'regression',\n    'random_state': 2021,\n    'reg_alpha': 1.2,\n    'reg_lambda': 1.4}]),\n (0,\n  [0.014637658302022268,\n   0.0013507857413644036,\n   {'max_depth': 5,\n    'min_data_in_leaf': 20,\n    'learning_rate': 0.005,\n    'num_leaves': 40,\n    'boosting_type': 'gbdt',\n    'objective': 'regression',\n    'random_state': 2021,\n    'reg_alpha': 1.2,\n    'reg_lambda': 1}]),\n (4,\n  [0.014692207591849686,\n   0.0013508803792958751,\n   {'max_depth': 5,\n    'min_data_in_leaf': 25,\n    'learning_rate': 0.01,\n    'num_leaves': 30,\n    'boosting_type': 'gbdt',\n    'objective': 'regression',\n    'random_state': 2021,\n    'reg_alpha': 1.2,\n    'reg_lambda': 1.4}])]"
     },
     "execution_count": 37,
     "metadata": {},
     "output_type": "execute_result"
    }
   ],
   "source": [
    "sorted_by_rmse #rmse got lower than baseline(model=LGBMRegressor), however coef got worse"
   ]
  },
  {
   "cell_type": "code",
   "execution_count": 4,
   "metadata": {},
   "outputs": [],
   "source": [
    "cv = TimeSeriesSplit(n_splits=5)\n",
    "lgbm = LGBMRegressor()\n",
    "lr = LinearRegression()\n",
    "regr = make_pipeline(StandardScaler(), SVR(C=1.0, epsilon=0.2))\n",
    "\n",
    "\n",
    "\n",
    "# coef_scores_lgbm = []\n",
    "# rmse_scores_lgbm = []\n",
    "# coef_scores_lr = []\n",
    "# rmse_scores_lr = []\n",
    "\n",
    "# compute cv and rmse, coef scores for lgbm, lr, svr models\n",
    "def cv_scores(X, y):\n",
    "\n",
    "    coef_scores = {\"lgbm\":[], \"lr\":[], \"svr\":[]}\n",
    "    rmse_scores = {\"lgbm\":[], \"lr\":[], \"svr\":[]}\n",
    "    for train_idx, test_idx, in cv.split(X):\n",
    "        X_train, X_test = X[train_idx], X[test_idx]\n",
    "        y_train, y_test = y[train_idx], y[test_idx]\n",
    "        print(X_train.shape)\n",
    "\n",
    "        lgbm.fit(X_train, y_train)\n",
    "        lr.fit(X_train, y_train)\n",
    "        regr.fit(X_train, y_train)\n",
    "\n",
    "        y_pred_lgbm = lgbm.predict(X_test).squeeze()\n",
    "        y_pred_lr = lr.predict(X_test).squeeze()\n",
    "        y_pred_svr = regr.predict(X_test).squeeze()\n",
    "        print(\"y_pred_svr.shape >>:\", y_pred_svr.shape)\n",
    "        print(\"y_pred_svr.isna.sum >>:\", np.sum(np.isnan(y_test)))\n",
    "        print(\"y_test.isna.sum\", np.sum(np.isnan(y_pred_svr)))     \n",
    "        \n",
    "        coef_scores[\"lgbm\"].append(np.corrcoef(y_pred_lgbm, y_test)[0][1])\n",
    "        coef_scores[\"lr\"].append(np.corrcoef(y_pred_lr, y_test)[0][1])\n",
    "        coef_scores[\"svr\"].append(np.corrcoef(y_pred_svr, y_test)[0][1])\n",
    "\n",
    "        rmse_scores[\"lgbm\"].append(np.sqrt(mean_squared_error(y_pred_lgbm, y_test)))\n",
    "        rmse_scores[\"lr\"].append(np.sqrt(mean_squared_error(y_pred_lr, y_test)))\n",
    "        rmse_scores[\"svr\"].append(np.sqrt(mean_squared_error(y_pred_svr, y_test)))\n",
    "\n",
    "    return coef_scores, rmse_scores\n",
    "        # coef_scores_lgbm.append(np.corrcoef(y_pred_lgbm, y_test)[0][1])\n",
    "        # rmse_scores_lgbm.append(np.sqrt(mean_squared_error(y_pred_lgbm, y_test)))\n",
    "        # coef_scores_lr.append(np.corrcoef(y_pred_lr, y_test)[0][1])\n",
    "        # rmse_scores_lr.append(np.sqrt(mean_squared_error(y_pred_lr, y_test)))"
   ]
  },
  {
   "cell_type": "code",
   "execution_count": 5,
   "metadata": {},
   "outputs": [
    {
     "name": "stdout",
     "output_type": "stream",
     "text": [
      "(15000, 13)\n",
      "y_pred_svr.shape >>: (15000,)\n",
      "y_pred_svr.isna.sum >>: 0\n",
      "y_test.isna.sum 0\n",
      "(30000, 13)\n"
     ]
    },
    {
     "name": "stderr",
     "output_type": "stream",
     "text": [
      "/Users/soraward/miniforge3/envs/pyflux/lib/python3.8/site-packages/numpy/lib/function_base.py:2691: RuntimeWarning: invalid value encountered in true_divide\n",
      "  c /= stddev[:, None]\n",
      "/Users/soraward/miniforge3/envs/pyflux/lib/python3.8/site-packages/numpy/lib/function_base.py:2692: RuntimeWarning: invalid value encountered in true_divide\n",
      "  c /= stddev[None, :]\n"
     ]
    },
    {
     "name": "stdout",
     "output_type": "stream",
     "text": [
      "y_pred_svr.shape >>: (15000,)\n",
      "y_pred_svr.isna.sum >>: 0\n",
      "y_test.isna.sum 0\n",
      "(45000, 13)\n"
     ]
    },
    {
     "name": "stderr",
     "output_type": "stream",
     "text": [
      "/Users/soraward/miniforge3/envs/pyflux/lib/python3.8/site-packages/numpy/lib/function_base.py:2691: RuntimeWarning: invalid value encountered in true_divide\n",
      "  c /= stddev[:, None]\n",
      "/Users/soraward/miniforge3/envs/pyflux/lib/python3.8/site-packages/numpy/lib/function_base.py:2692: RuntimeWarning: invalid value encountered in true_divide\n",
      "  c /= stddev[None, :]\n"
     ]
    },
    {
     "name": "stdout",
     "output_type": "stream",
     "text": [
      "y_pred_svr.shape >>: (15000,)\n",
      "y_pred_svr.isna.sum >>: 0\n",
      "y_test.isna.sum 0\n",
      "(60000, 13)\n"
     ]
    },
    {
     "name": "stderr",
     "output_type": "stream",
     "text": [
      "/Users/soraward/miniforge3/envs/pyflux/lib/python3.8/site-packages/numpy/lib/function_base.py:2691: RuntimeWarning: invalid value encountered in true_divide\n",
      "  c /= stddev[:, None]\n",
      "/Users/soraward/miniforge3/envs/pyflux/lib/python3.8/site-packages/numpy/lib/function_base.py:2692: RuntimeWarning: invalid value encountered in true_divide\n",
      "  c /= stddev[None, :]\n"
     ]
    },
    {
     "name": "stdout",
     "output_type": "stream",
     "text": [
      "y_pred_svr.shape >>: (15000,)\n",
      "y_pred_svr.isna.sum >>: 0\n",
      "y_test.isna.sum 0\n",
      "(75000, 13)\n"
     ]
    },
    {
     "name": "stderr",
     "output_type": "stream",
     "text": [
      "/Users/soraward/miniforge3/envs/pyflux/lib/python3.8/site-packages/numpy/lib/function_base.py:2691: RuntimeWarning: invalid value encountered in true_divide\n",
      "  c /= stddev[:, None]\n",
      "/Users/soraward/miniforge3/envs/pyflux/lib/python3.8/site-packages/numpy/lib/function_base.py:2692: RuntimeWarning: invalid value encountered in true_divide\n",
      "  c /= stddev[None, :]\n"
     ]
    },
    {
     "name": "stdout",
     "output_type": "stream",
     "text": [
      "y_pred_svr.shape >>: (15000,)\n",
      "y_pred_svr.isna.sum >>: 0\n",
      "y_test.isna.sum 0\n",
      "lgbm_coef_scores >>: 0.1315201309297373\n",
      "[0.028443932239353646, 0.05304022149645442, 0.01058663525631585, 0.01697564820329782, 0.022473693734315583]\n",
      "lr_coef_scores >>: 0.25963029319992237\n",
      "[0.024406257207902366, 0.0791974686790663, 0.012543804090438173, 0.0360797429361121, 0.10740302028640342]\n",
      "svr_coef_scores >>: nan\n",
      "[nan, nan, nan, nan, nan]\n",
      "lgbm_rmse_scores >>: 0.009833042422863168\n",
      "lr_rmse_scores >>: 0.00915064093612973\n",
      "svr_rmse_scores >>: 0.012286916798059766\n"
     ]
    },
    {
     "name": "stderr",
     "output_type": "stream",
     "text": [
      "/Users/soraward/miniforge3/envs/pyflux/lib/python3.8/site-packages/numpy/lib/function_base.py:2691: RuntimeWarning: invalid value encountered in true_divide\n",
      "  c /= stddev[:, None]\n",
      "/Users/soraward/miniforge3/envs/pyflux/lib/python3.8/site-packages/numpy/lib/function_base.py:2692: RuntimeWarning: invalid value encountered in true_divide\n",
      "  c /= stddev[None, :]\n"
     ]
    }
   ],
   "source": [
    "coef_scores, rmse_scores = cv_scores(X_sm, y_sm)\n",
    "models = [\"lgbm\", \"lr\", \"svr\"]\n",
    "for model in models:\n",
    "    print(f\"{model}_coef_scores >>:\", sum(coef_scores[model]))\n",
    "    print(coef_scores[model])\n",
    "for model in models:\n",
    "    print(f\"{model}_rmse_scores >>:\", sum(rmse_scores[model]))\n"
   ]
  },
  {
   "cell_type": "code",
   "execution_count": 6,
   "metadata": {},
   "outputs": [
    {
     "data": {
      "text/plain": "(1952639, 13)"
     },
     "execution_count": 6,
     "metadata": {},
     "output_type": "execute_result"
    }
   ],
   "source": [
    "X.shape"
   ]
  },
  {
   "cell_type": "markdown",
   "metadata": {},
   "source": [
    "lgbm_coef_scores >>: 0.03260839615236024\n",
    "lr_coef_scores >>: 0.15899542915463533\n",
    "svr_coef_scores >>: nan\n",
    "lgbm_rmse_scores >>: 0.007897018856831799\n",
    "lr_rmse_scores >>: 0.006672486025234611\n",
    "svr_rmse_scores >>: 0.03511887093703035"
   ]
  },
  {
   "cell_type": "code",
   "execution_count": null,
   "metadata": {},
   "outputs": [],
   "source": [
    "0.01918597934749267,\n",
    "   0.0013507460664068677,"
   ]
  },
  {
   "cell_type": "code",
   "execution_count": 53,
   "metadata": {},
   "outputs": [
    {
     "data": {
      "text/plain": "(0.15899542915463533,\n 0.03260839615236024,\n 0.006672486025234611,\n 0.007897018856831799)"
     },
     "execution_count": 53,
     "metadata": {},
     "output_type": "execute_result"
    }
   ],
   "source": [
    "sum(coef_scores_lr), sum(coef_scores_lgbm), sum(rmse_scores_lr), sum(rmse_scores_lgbm)"
   ]
  },
  {
   "cell_type": "code",
   "execution_count": 46,
   "metadata": {},
   "outputs": [
    {
     "data": {
      "text/plain": "[-0.0006014308185926689,\n 0.013231169959288098,\n 0.0017891720452698722,\n 0.015268104787911473,\n 0.002921380178483465]"
     },
     "execution_count": 46,
     "metadata": {},
     "output_type": "execute_result"
    }
   ],
   "source": [
    "coef_scores"
   ]
  },
  {
   "cell_type": "code",
   "execution_count": null,
   "metadata": {},
   "outputs": [],
   "source": [
    "fit_params = {\n",
    "    \"verbose\":0,\n",
    "    \"early_stopping\":10,\n",
    "    \"eval_metric\":\"rmse\",\n",
    "    \"eval_set\":[(X, y)]\n",
    "    }\n",
    "cv = TimeSeriesSplit(n_splits=5)\n",
    "model = LGBMRegressor()\n",
    "\n",
    "regplot.regression_heat_plot(model, )"
   ]
  }
 ],
 "metadata": {
  "kernelspec": {
   "display_name": "Python 3.8.12 64-bit ('pyflux': conda)",
   "name": "python3812jvsc74a57bd0b8bf3bbb95d33652ea8a09e83516ae388afde8f9530fb9552010d87506ab4938"
  },
  "language_info": {
   "codemirror_mode": {
    "name": "ipython",
    "version": 3
   },
   "file_extension": ".py",
   "mimetype": "text/x-python",
   "name": "python",
   "nbconvert_exporter": "python",
   "pygments_lexer": "ipython3",
   "version": "3.8.12"
  },
  "metadata": {
   "interpreter": {
    "hash": "b8bf3bbb95d33652ea8a09e83516ae388afde8f9530fb9552010d87506ab4938"
   }
  },
  "orig_nbformat": 2
 },
 "nbformat": 4,
 "nbformat_minor": 2
}